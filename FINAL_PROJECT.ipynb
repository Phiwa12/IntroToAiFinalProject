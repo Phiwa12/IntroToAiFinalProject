{
 "cells": [
  {
   "cell_type": "code",
   "execution_count": 1,
   "id": "3514d0ff-6b90-4eb1-92db-ec61d881917e",
   "metadata": {},
   "outputs": [],
   "source": [
    "# Importing the pandas library to work with DataFrames\n",
    "import pandas as pd\n",
    "import numpy as np\n",
    "import pickle\n",
    "from sklearn.impute import SimpleImputer\n",
    "\n",
    "\n"
   ]
  },
  {
   "cell_type": "code",
   "execution_count": 2,
   "id": "48aacc8b-d75a-4cfc-8de0-09b61882d1c0",
   "metadata": {},
   "outputs": [
    {
     "name": "stdout",
     "output_type": "stream",
     "text": [
      "Requirement already satisfied: langchain in c:\\users\\user\\anaconda3\\lib\\site-packages (0.2.12)\n",
      "Requirement already satisfied: PyYAML>=5.3 in c:\\users\\user\\anaconda3\\lib\\site-packages (from langchain) (6.0.1)\n",
      "Requirement already satisfied: SQLAlchemy<3,>=1.4 in c:\\users\\user\\anaconda3\\lib\\site-packages (from langchain) (2.0.25)\n",
      "Requirement already satisfied: aiohttp<4.0.0,>=3.8.3 in c:\\users\\user\\anaconda3\\lib\\site-packages (from langchain) (3.9.3)\n",
      "Requirement already satisfied: langchain-core<0.3.0,>=0.2.27 in c:\\users\\user\\anaconda3\\lib\\site-packages (from langchain) (0.2.28)\n",
      "Requirement already satisfied: langchain-text-splitters<0.3.0,>=0.2.0 in c:\\users\\user\\anaconda3\\lib\\site-packages (from langchain) (0.2.2)\n",
      "Requirement already satisfied: langsmith<0.2.0,>=0.1.17 in c:\\users\\user\\anaconda3\\lib\\site-packages (from langchain) (0.1.87)\n",
      "Requirement already satisfied: numpy<2,>=1 in c:\\users\\user\\anaconda3\\lib\\site-packages (from langchain) (1.26.4)\n",
      "Requirement already satisfied: pydantic<3,>=1 in c:\\users\\user\\anaconda3\\lib\\site-packages (from langchain) (1.10.12)\n",
      "Requirement already satisfied: requests<3,>=2 in c:\\users\\user\\anaconda3\\lib\\site-packages (from langchain) (2.31.0)\n",
      "Requirement already satisfied: tenacity!=8.4.0,<9.0.0,>=8.1.0 in c:\\users\\user\\anaconda3\\lib\\site-packages (from langchain) (8.2.2)\n",
      "Requirement already satisfied: aiosignal>=1.1.2 in c:\\users\\user\\anaconda3\\lib\\site-packages (from aiohttp<4.0.0,>=3.8.3->langchain) (1.2.0)\n",
      "Requirement already satisfied: attrs>=17.3.0 in c:\\users\\user\\anaconda3\\lib\\site-packages (from aiohttp<4.0.0,>=3.8.3->langchain) (23.1.0)\n",
      "Requirement already satisfied: frozenlist>=1.1.1 in c:\\users\\user\\anaconda3\\lib\\site-packages (from aiohttp<4.0.0,>=3.8.3->langchain) (1.4.0)\n",
      "Requirement already satisfied: multidict<7.0,>=4.5 in c:\\users\\user\\anaconda3\\lib\\site-packages (from aiohttp<4.0.0,>=3.8.3->langchain) (6.0.4)\n",
      "Requirement already satisfied: yarl<2.0,>=1.0 in c:\\users\\user\\anaconda3\\lib\\site-packages (from aiohttp<4.0.0,>=3.8.3->langchain) (1.9.3)\n",
      "Requirement already satisfied: jsonpatch<2.0,>=1.33 in c:\\users\\user\\anaconda3\\lib\\site-packages (from langchain-core<0.3.0,>=0.2.27->langchain) (1.33)\n",
      "Requirement already satisfied: packaging<25,>=23.2 in c:\\users\\user\\anaconda3\\lib\\site-packages (from langchain-core<0.3.0,>=0.2.27->langchain) (24.1)\n",
      "Requirement already satisfied: typing-extensions>=4.7 in c:\\users\\user\\anaconda3\\lib\\site-packages (from langchain-core<0.3.0,>=0.2.27->langchain) (4.9.0)\n",
      "Requirement already satisfied: orjson<4.0.0,>=3.9.14 in c:\\users\\user\\anaconda3\\lib\\site-packages (from langsmith<0.2.0,>=0.1.17->langchain) (3.10.6)\n",
      "Requirement already satisfied: charset-normalizer<4,>=2 in c:\\users\\user\\anaconda3\\lib\\site-packages (from requests<3,>=2->langchain) (2.0.4)\n",
      "Requirement already satisfied: idna<4,>=2.5 in c:\\users\\user\\anaconda3\\lib\\site-packages (from requests<3,>=2->langchain) (3.4)\n",
      "Requirement already satisfied: urllib3<3,>=1.21.1 in c:\\users\\user\\anaconda3\\lib\\site-packages (from requests<3,>=2->langchain) (2.0.7)\n",
      "Requirement already satisfied: certifi>=2017.4.17 in c:\\users\\user\\anaconda3\\lib\\site-packages (from requests<3,>=2->langchain) (2024.6.2)\n",
      "Requirement already satisfied: greenlet!=0.4.17 in c:\\users\\user\\anaconda3\\lib\\site-packages (from SQLAlchemy<3,>=1.4->langchain) (3.0.1)\n",
      "Requirement already satisfied: jsonpointer>=1.9 in c:\\users\\user\\anaconda3\\lib\\site-packages (from jsonpatch<2.0,>=1.33->langchain-core<0.3.0,>=0.2.27->langchain) (2.1)\n",
      "Requirement already satisfied: tiktoken in c:\\users\\user\\anaconda3\\lib\\site-packages (0.7.0)\n",
      "Requirement already satisfied: regex>=2022.1.18 in c:\\users\\user\\anaconda3\\lib\\site-packages (from tiktoken) (2023.10.3)\n",
      "Requirement already satisfied: requests>=2.26.0 in c:\\users\\user\\anaconda3\\lib\\site-packages (from tiktoken) (2.31.0)\n",
      "Requirement already satisfied: charset-normalizer<4,>=2 in c:\\users\\user\\anaconda3\\lib\\site-packages (from requests>=2.26.0->tiktoken) (2.0.4)\n",
      "Requirement already satisfied: idna<4,>=2.5 in c:\\users\\user\\anaconda3\\lib\\site-packages (from requests>=2.26.0->tiktoken) (3.4)\n",
      "Requirement already satisfied: urllib3<3,>=1.21.1 in c:\\users\\user\\anaconda3\\lib\\site-packages (from requests>=2.26.0->tiktoken) (2.0.7)\n",
      "Requirement already satisfied: certifi>=2017.4.17 in c:\\users\\user\\anaconda3\\lib\\site-packages (from requests>=2.26.0->tiktoken) (2024.6.2)\n"
     ]
    },
    {
     "name": "stderr",
     "output_type": "stream",
     "text": [
      "ERROR: Could not find a version that satisfies the requirement faiss-gpu (from versions: none)\n",
      "ERROR: No matching distribution found for faiss-gpu\n"
     ]
    },
    {
     "name": "stdout",
     "output_type": "stream",
     "text": [
      "Requirement already satisfied: langchain_experimental in c:\\users\\user\\anaconda3\\lib\\site-packages (0.0.63)\n",
      "Requirement already satisfied: langchain-community<0.3.0,>=0.2.6 in c:\\users\\user\\anaconda3\\lib\\site-packages (from langchain_experimental) (0.2.11)\n",
      "Requirement already satisfied: langchain-core<0.3.0,>=0.2.10 in c:\\users\\user\\anaconda3\\lib\\site-packages (from langchain_experimental) (0.2.28)\n",
      "Requirement already satisfied: PyYAML>=5.3 in c:\\users\\user\\anaconda3\\lib\\site-packages (from langchain-community<0.3.0,>=0.2.6->langchain_experimental) (6.0.1)\n",
      "Requirement already satisfied: SQLAlchemy<3,>=1.4 in c:\\users\\user\\anaconda3\\lib\\site-packages (from langchain-community<0.3.0,>=0.2.6->langchain_experimental) (2.0.25)\n",
      "Requirement already satisfied: aiohttp<4.0.0,>=3.8.3 in c:\\users\\user\\anaconda3\\lib\\site-packages (from langchain-community<0.3.0,>=0.2.6->langchain_experimental) (3.9.3)\n",
      "Requirement already satisfied: dataclasses-json<0.7,>=0.5.7 in c:\\users\\user\\anaconda3\\lib\\site-packages (from langchain-community<0.3.0,>=0.2.6->langchain_experimental) (0.6.7)\n",
      "Requirement already satisfied: langchain<0.3.0,>=0.2.12 in c:\\users\\user\\anaconda3\\lib\\site-packages (from langchain-community<0.3.0,>=0.2.6->langchain_experimental) (0.2.12)\n",
      "Requirement already satisfied: langsmith<0.2.0,>=0.1.0 in c:\\users\\user\\anaconda3\\lib\\site-packages (from langchain-community<0.3.0,>=0.2.6->langchain_experimental) (0.1.87)\n",
      "Requirement already satisfied: numpy<2,>=1 in c:\\users\\user\\anaconda3\\lib\\site-packages (from langchain-community<0.3.0,>=0.2.6->langchain_experimental) (1.26.4)\n",
      "Requirement already satisfied: requests<3,>=2 in c:\\users\\user\\anaconda3\\lib\\site-packages (from langchain-community<0.3.0,>=0.2.6->langchain_experimental) (2.31.0)\n",
      "Requirement already satisfied: tenacity!=8.4.0,<9.0.0,>=8.1.0 in c:\\users\\user\\anaconda3\\lib\\site-packages (from langchain-community<0.3.0,>=0.2.6->langchain_experimental) (8.2.2)\n",
      "Requirement already satisfied: jsonpatch<2.0,>=1.33 in c:\\users\\user\\anaconda3\\lib\\site-packages (from langchain-core<0.3.0,>=0.2.10->langchain_experimental) (1.33)\n",
      "Requirement already satisfied: packaging<25,>=23.2 in c:\\users\\user\\anaconda3\\lib\\site-packages (from langchain-core<0.3.0,>=0.2.10->langchain_experimental) (24.1)\n",
      "Requirement already satisfied: pydantic<3,>=1 in c:\\users\\user\\anaconda3\\lib\\site-packages (from langchain-core<0.3.0,>=0.2.10->langchain_experimental) (1.10.12)\n",
      "Requirement already satisfied: typing-extensions>=4.7 in c:\\users\\user\\anaconda3\\lib\\site-packages (from langchain-core<0.3.0,>=0.2.10->langchain_experimental) (4.9.0)\n",
      "Requirement already satisfied: aiosignal>=1.1.2 in c:\\users\\user\\anaconda3\\lib\\site-packages (from aiohttp<4.0.0,>=3.8.3->langchain-community<0.3.0,>=0.2.6->langchain_experimental) (1.2.0)\n",
      "Requirement already satisfied: attrs>=17.3.0 in c:\\users\\user\\anaconda3\\lib\\site-packages (from aiohttp<4.0.0,>=3.8.3->langchain-community<0.3.0,>=0.2.6->langchain_experimental) (23.1.0)\n",
      "Requirement already satisfied: frozenlist>=1.1.1 in c:\\users\\user\\anaconda3\\lib\\site-packages (from aiohttp<4.0.0,>=3.8.3->langchain-community<0.3.0,>=0.2.6->langchain_experimental) (1.4.0)\n",
      "Requirement already satisfied: multidict<7.0,>=4.5 in c:\\users\\user\\anaconda3\\lib\\site-packages (from aiohttp<4.0.0,>=3.8.3->langchain-community<0.3.0,>=0.2.6->langchain_experimental) (6.0.4)\n",
      "Requirement already satisfied: yarl<2.0,>=1.0 in c:\\users\\user\\anaconda3\\lib\\site-packages (from aiohttp<4.0.0,>=3.8.3->langchain-community<0.3.0,>=0.2.6->langchain_experimental) (1.9.3)\n",
      "Requirement already satisfied: marshmallow<4.0.0,>=3.18.0 in c:\\users\\user\\anaconda3\\lib\\site-packages (from dataclasses-json<0.7,>=0.5.7->langchain-community<0.3.0,>=0.2.6->langchain_experimental) (3.21.3)\n",
      "Requirement already satisfied: typing-inspect<1,>=0.4.0 in c:\\users\\user\\anaconda3\\lib\\site-packages (from dataclasses-json<0.7,>=0.5.7->langchain-community<0.3.0,>=0.2.6->langchain_experimental) (0.9.0)\n",
      "Requirement already satisfied: jsonpointer>=1.9 in c:\\users\\user\\anaconda3\\lib\\site-packages (from jsonpatch<2.0,>=1.33->langchain-core<0.3.0,>=0.2.10->langchain_experimental) (2.1)\n",
      "Requirement already satisfied: langchain-text-splitters<0.3.0,>=0.2.0 in c:\\users\\user\\anaconda3\\lib\\site-packages (from langchain<0.3.0,>=0.2.12->langchain-community<0.3.0,>=0.2.6->langchain_experimental) (0.2.2)\n",
      "Requirement already satisfied: orjson<4.0.0,>=3.9.14 in c:\\users\\user\\anaconda3\\lib\\site-packages (from langsmith<0.2.0,>=0.1.0->langchain-community<0.3.0,>=0.2.6->langchain_experimental) (3.10.6)\n",
      "Requirement already satisfied: charset-normalizer<4,>=2 in c:\\users\\user\\anaconda3\\lib\\site-packages (from requests<3,>=2->langchain-community<0.3.0,>=0.2.6->langchain_experimental) (2.0.4)\n",
      "Requirement already satisfied: idna<4,>=2.5 in c:\\users\\user\\anaconda3\\lib\\site-packages (from requests<3,>=2->langchain-community<0.3.0,>=0.2.6->langchain_experimental) (3.4)\n",
      "Requirement already satisfied: urllib3<3,>=1.21.1 in c:\\users\\user\\anaconda3\\lib\\site-packages (from requests<3,>=2->langchain-community<0.3.0,>=0.2.6->langchain_experimental) (2.0.7)\n",
      "Requirement already satisfied: certifi>=2017.4.17 in c:\\users\\user\\anaconda3\\lib\\site-packages (from requests<3,>=2->langchain-community<0.3.0,>=0.2.6->langchain_experimental) (2024.6.2)\n",
      "Requirement already satisfied: greenlet!=0.4.17 in c:\\users\\user\\anaconda3\\lib\\site-packages (from SQLAlchemy<3,>=1.4->langchain-community<0.3.0,>=0.2.6->langchain_experimental) (3.0.1)\n",
      "Requirement already satisfied: mypy-extensions>=0.3.0 in c:\\users\\user\\anaconda3\\lib\\site-packages (from typing-inspect<1,>=0.4.0->dataclasses-json<0.7,>=0.5.7->langchain-community<0.3.0,>=0.2.6->langchain_experimental) (1.0.0)\n",
      "Requirement already satisfied: langchain[docarray] in c:\\users\\user\\anaconda3\\lib\\site-packages (0.2.12)\n",
      "Requirement already satisfied: PyYAML>=5.3 in c:\\users\\user\\anaconda3\\lib\\site-packages (from langchain[docarray]) (6.0.1)\n",
      "Requirement already satisfied: SQLAlchemy<3,>=1.4 in c:\\users\\user\\anaconda3\\lib\\site-packages (from langchain[docarray]) (2.0.25)\n",
      "Requirement already satisfied: aiohttp<4.0.0,>=3.8.3 in c:\\users\\user\\anaconda3\\lib\\site-packages (from langchain[docarray]) (3.9.3)\n",
      "Requirement already satisfied: langchain-core<0.3.0,>=0.2.27 in c:\\users\\user\\anaconda3\\lib\\site-packages (from langchain[docarray]) (0.2.28)\n",
      "Requirement already satisfied: langchain-text-splitters<0.3.0,>=0.2.0 in c:\\users\\user\\anaconda3\\lib\\site-packages (from langchain[docarray]) (0.2.2)\n",
      "Requirement already satisfied: langsmith<0.2.0,>=0.1.17 in c:\\users\\user\\anaconda3\\lib\\site-packages (from langchain[docarray]) (0.1.87)\n",
      "Requirement already satisfied: numpy<2,>=1 in c:\\users\\user\\anaconda3\\lib\\site-packages (from langchain[docarray]) (1.26.4)\n",
      "Requirement already satisfied: pydantic<3,>=1 in c:\\users\\user\\anaconda3\\lib\\site-packages (from langchain[docarray]) (1.10.12)\n",
      "Requirement already satisfied: requests<3,>=2 in c:\\users\\user\\anaconda3\\lib\\site-packages (from langchain[docarray]) (2.31.0)\n",
      "Requirement already satisfied: tenacity!=8.4.0,<9.0.0,>=8.1.0 in c:\\users\\user\\anaconda3\\lib\\site-packages (from langchain[docarray]) (8.2.2)\n",
      "Requirement already satisfied: aiosignal>=1.1.2 in c:\\users\\user\\anaconda3\\lib\\site-packages (from aiohttp<4.0.0,>=3.8.3->langchain[docarray]) (1.2.0)\n",
      "Requirement already satisfied: attrs>=17.3.0 in c:\\users\\user\\anaconda3\\lib\\site-packages (from aiohttp<4.0.0,>=3.8.3->langchain[docarray]) (23.1.0)\n",
      "Requirement already satisfied: frozenlist>=1.1.1 in c:\\users\\user\\anaconda3\\lib\\site-packages (from aiohttp<4.0.0,>=3.8.3->langchain[docarray]) (1.4.0)\n",
      "Requirement already satisfied: multidict<7.0,>=4.5 in c:\\users\\user\\anaconda3\\lib\\site-packages (from aiohttp<4.0.0,>=3.8.3->langchain[docarray]) (6.0.4)\n",
      "Requirement already satisfied: yarl<2.0,>=1.0 in c:\\users\\user\\anaconda3\\lib\\site-packages (from aiohttp<4.0.0,>=3.8.3->langchain[docarray]) (1.9.3)\n",
      "Requirement already satisfied: jsonpatch<2.0,>=1.33 in c:\\users\\user\\anaconda3\\lib\\site-packages (from langchain-core<0.3.0,>=0.2.27->langchain[docarray]) (1.33)\n",
      "Requirement already satisfied: packaging<25,>=23.2 in c:\\users\\user\\anaconda3\\lib\\site-packages (from langchain-core<0.3.0,>=0.2.27->langchain[docarray]) (24.1)\n",
      "Requirement already satisfied: typing-extensions>=4.7 in c:\\users\\user\\anaconda3\\lib\\site-packages (from langchain-core<0.3.0,>=0.2.27->langchain[docarray]) (4.9.0)\n",
      "Requirement already satisfied: orjson<4.0.0,>=3.9.14 in c:\\users\\user\\anaconda3\\lib\\site-packages (from langsmith<0.2.0,>=0.1.17->langchain[docarray]) (3.10.6)\n",
      "Requirement already satisfied: charset-normalizer<4,>=2 in c:\\users\\user\\anaconda3\\lib\\site-packages (from requests<3,>=2->langchain[docarray]) (2.0.4)\n",
      "Requirement already satisfied: idna<4,>=2.5 in c:\\users\\user\\anaconda3\\lib\\site-packages (from requests<3,>=2->langchain[docarray]) (3.4)\n",
      "Requirement already satisfied: urllib3<3,>=1.21.1 in c:\\users\\user\\anaconda3\\lib\\site-packages (from requests<3,>=2->langchain[docarray]) (2.0.7)\n",
      "Requirement already satisfied: certifi>=2017.4.17 in c:\\users\\user\\anaconda3\\lib\\site-packages (from requests<3,>=2->langchain[docarray]) (2024.6.2)\n",
      "Requirement already satisfied: greenlet!=0.4.17 in c:\\users\\user\\anaconda3\\lib\\site-packages (from SQLAlchemy<3,>=1.4->langchain[docarray]) (3.0.1)\n",
      "Requirement already satisfied: jsonpointer>=1.9 in c:\\users\\user\\anaconda3\\lib\\site-packages (from jsonpatch<2.0,>=1.33->langchain-core<0.3.0,>=0.2.27->langchain[docarray]) (2.1)\n"
     ]
    },
    {
     "name": "stderr",
     "output_type": "stream",
     "text": [
      "WARNING: langchain 0.2.12 does not provide the extra 'docarray'\n"
     ]
    },
    {
     "name": "stdout",
     "output_type": "stream",
     "text": [
      "Requirement already satisfied: pymongo in c:\\users\\user\\anaconda3\\lib\\site-packages (4.7.2)\n",
      "Requirement already satisfied: dnspython<3.0.0,>=1.16.0 in c:\\users\\user\\anaconda3\\lib\\site-packages (from pymongo) (2.6.1)\n"
     ]
    }
   ],
   "source": [
    "!pip install langchain\n",
    "!pip install tiktoken\n",
    "!pip install faiss-gpu\n",
    "!pip install langchain_experimental\n",
    "!pip install \"langchain[docarray]\"\n",
    "!pip install pymongo"
   ]
  },
  {
   "cell_type": "code",
   "execution_count": 3,
   "id": "fa2d6eaf-c442-45ab-992a-9d9c02de9e65",
   "metadata": {},
   "outputs": [],
   "source": [
    "from pymongo import MongoClient\n",
    "\n",
    "client = MongoClient('mongodb://localhost:27017')\n",
    "db = client['diet_recommendations']\n",
    "\n",
    "users_collection = db['users']\n",
    "recommendations_collection = db['recommendations']\n"
   ]
  },
  {
   "cell_type": "code",
   "execution_count": 4,
   "id": "0ffbeae1-6fc9-4d24-a744-b15ff17f4313",
   "metadata": {},
   "outputs": [
    {
     "name": "stdout",
     "output_type": "stream",
     "text": [
      "Requirement already satisfied: openai in c:\\users\\user\\anaconda3\\lib\\site-packages (0.28.0)\n",
      "Requirement already satisfied: requests>=2.20 in c:\\users\\user\\anaconda3\\lib\\site-packages (from openai) (2.31.0)\n",
      "Requirement already satisfied: tqdm in c:\\users\\user\\anaconda3\\lib\\site-packages (from openai) (4.65.0)\n",
      "Requirement already satisfied: aiohttp in c:\\users\\user\\anaconda3\\lib\\site-packages (from openai) (3.9.3)\n",
      "Requirement already satisfied: charset-normalizer<4,>=2 in c:\\users\\user\\anaconda3\\lib\\site-packages (from requests>=2.20->openai) (2.0.4)\n",
      "Requirement already satisfied: idna<4,>=2.5 in c:\\users\\user\\anaconda3\\lib\\site-packages (from requests>=2.20->openai) (3.4)\n",
      "Requirement already satisfied: urllib3<3,>=1.21.1 in c:\\users\\user\\anaconda3\\lib\\site-packages (from requests>=2.20->openai) (2.0.7)\n",
      "Requirement already satisfied: certifi>=2017.4.17 in c:\\users\\user\\anaconda3\\lib\\site-packages (from requests>=2.20->openai) (2024.6.2)\n",
      "Requirement already satisfied: aiosignal>=1.1.2 in c:\\users\\user\\anaconda3\\lib\\site-packages (from aiohttp->openai) (1.2.0)\n",
      "Requirement already satisfied: attrs>=17.3.0 in c:\\users\\user\\anaconda3\\lib\\site-packages (from aiohttp->openai) (23.1.0)\n",
      "Requirement already satisfied: frozenlist>=1.1.1 in c:\\users\\user\\anaconda3\\lib\\site-packages (from aiohttp->openai) (1.4.0)\n",
      "Requirement already satisfied: multidict<7.0,>=4.5 in c:\\users\\user\\anaconda3\\lib\\site-packages (from aiohttp->openai) (6.0.4)\n",
      "Requirement already satisfied: yarl<2.0,>=1.0 in c:\\users\\user\\anaconda3\\lib\\site-packages (from aiohttp->openai) (1.9.3)\n",
      "Requirement already satisfied: colorama in c:\\users\\user\\anaconda3\\lib\\site-packages (from tqdm->openai) (0.4.6)\n"
     ]
    }
   ],
   "source": [
    "!pip install openai"
   ]
  },
  {
   "cell_type": "code",
   "execution_count": 5,
   "id": "6daf91f1-b506-4566-b459-0d72d3860a2f",
   "metadata": {},
   "outputs": [
    {
     "name": "stdout",
     "output_type": "stream",
     "text": [
      "Requirement already satisfied: faiss-cpu in c:\\users\\user\\anaconda3\\lib\\site-packages (1.8.0.post1)\n",
      "Requirement already satisfied: numpy<2.0,>=1.0 in c:\\users\\user\\anaconda3\\lib\\site-packages (from faiss-cpu) (1.26.4)\n",
      "Requirement already satisfied: packaging in c:\\users\\user\\anaconda3\\lib\\site-packages (from faiss-cpu) (24.1)\n"
     ]
    }
   ],
   "source": [
    "!pip install faiss-cpu\n"
   ]
  },
  {
   "cell_type": "code",
   "execution_count": 6,
   "id": "67b67044-0c47-4605-b137-f24119c78711",
   "metadata": {},
   "outputs": [
    {
     "name": "stdout",
     "output_type": "stream",
     "text": [
      "Requirement already satisfied: langchain-community in c:\\users\\user\\anaconda3\\lib\\site-packages (0.2.11)\n",
      "Requirement already satisfied: PyYAML>=5.3 in c:\\users\\user\\anaconda3\\lib\\site-packages (from langchain-community) (6.0.1)\n",
      "Requirement already satisfied: SQLAlchemy<3,>=1.4 in c:\\users\\user\\anaconda3\\lib\\site-packages (from langchain-community) (2.0.25)\n",
      "Requirement already satisfied: aiohttp<4.0.0,>=3.8.3 in c:\\users\\user\\anaconda3\\lib\\site-packages (from langchain-community) (3.9.3)\n",
      "Requirement already satisfied: dataclasses-json<0.7,>=0.5.7 in c:\\users\\user\\anaconda3\\lib\\site-packages (from langchain-community) (0.6.7)\n",
      "Requirement already satisfied: langchain<0.3.0,>=0.2.12 in c:\\users\\user\\anaconda3\\lib\\site-packages (from langchain-community) (0.2.12)\n",
      "Requirement already satisfied: langchain-core<0.3.0,>=0.2.27 in c:\\users\\user\\anaconda3\\lib\\site-packages (from langchain-community) (0.2.28)\n",
      "Requirement already satisfied: langsmith<0.2.0,>=0.1.0 in c:\\users\\user\\anaconda3\\lib\\site-packages (from langchain-community) (0.1.87)\n",
      "Requirement already satisfied: numpy<2,>=1 in c:\\users\\user\\anaconda3\\lib\\site-packages (from langchain-community) (1.26.4)\n",
      "Requirement already satisfied: requests<3,>=2 in c:\\users\\user\\anaconda3\\lib\\site-packages (from langchain-community) (2.31.0)\n",
      "Requirement already satisfied: tenacity!=8.4.0,<9.0.0,>=8.1.0 in c:\\users\\user\\anaconda3\\lib\\site-packages (from langchain-community) (8.2.2)\n",
      "Requirement already satisfied: aiosignal>=1.1.2 in c:\\users\\user\\anaconda3\\lib\\site-packages (from aiohttp<4.0.0,>=3.8.3->langchain-community) (1.2.0)\n",
      "Requirement already satisfied: attrs>=17.3.0 in c:\\users\\user\\anaconda3\\lib\\site-packages (from aiohttp<4.0.0,>=3.8.3->langchain-community) (23.1.0)\n",
      "Requirement already satisfied: frozenlist>=1.1.1 in c:\\users\\user\\anaconda3\\lib\\site-packages (from aiohttp<4.0.0,>=3.8.3->langchain-community) (1.4.0)\n",
      "Requirement already satisfied: multidict<7.0,>=4.5 in c:\\users\\user\\anaconda3\\lib\\site-packages (from aiohttp<4.0.0,>=3.8.3->langchain-community) (6.0.4)\n",
      "Requirement already satisfied: yarl<2.0,>=1.0 in c:\\users\\user\\anaconda3\\lib\\site-packages (from aiohttp<4.0.0,>=3.8.3->langchain-community) (1.9.3)\n",
      "Requirement already satisfied: marshmallow<4.0.0,>=3.18.0 in c:\\users\\user\\anaconda3\\lib\\site-packages (from dataclasses-json<0.7,>=0.5.7->langchain-community) (3.21.3)\n",
      "Requirement already satisfied: typing-inspect<1,>=0.4.0 in c:\\users\\user\\anaconda3\\lib\\site-packages (from dataclasses-json<0.7,>=0.5.7->langchain-community) (0.9.0)\n",
      "Requirement already satisfied: langchain-text-splitters<0.3.0,>=0.2.0 in c:\\users\\user\\anaconda3\\lib\\site-packages (from langchain<0.3.0,>=0.2.12->langchain-community) (0.2.2)\n",
      "Requirement already satisfied: pydantic<3,>=1 in c:\\users\\user\\anaconda3\\lib\\site-packages (from langchain<0.3.0,>=0.2.12->langchain-community) (1.10.12)\n",
      "Requirement already satisfied: jsonpatch<2.0,>=1.33 in c:\\users\\user\\anaconda3\\lib\\site-packages (from langchain-core<0.3.0,>=0.2.27->langchain-community) (1.33)\n",
      "Requirement already satisfied: packaging<25,>=23.2 in c:\\users\\user\\anaconda3\\lib\\site-packages (from langchain-core<0.3.0,>=0.2.27->langchain-community) (24.1)\n",
      "Requirement already satisfied: typing-extensions>=4.7 in c:\\users\\user\\anaconda3\\lib\\site-packages (from langchain-core<0.3.0,>=0.2.27->langchain-community) (4.9.0)\n",
      "Requirement already satisfied: orjson<4.0.0,>=3.9.14 in c:\\users\\user\\anaconda3\\lib\\site-packages (from langsmith<0.2.0,>=0.1.0->langchain-community) (3.10.6)\n",
      "Requirement already satisfied: charset-normalizer<4,>=2 in c:\\users\\user\\anaconda3\\lib\\site-packages (from requests<3,>=2->langchain-community) (2.0.4)\n",
      "Requirement already satisfied: idna<4,>=2.5 in c:\\users\\user\\anaconda3\\lib\\site-packages (from requests<3,>=2->langchain-community) (3.4)\n",
      "Requirement already satisfied: urllib3<3,>=1.21.1 in c:\\users\\user\\anaconda3\\lib\\site-packages (from requests<3,>=2->langchain-community) (2.0.7)\n",
      "Requirement already satisfied: certifi>=2017.4.17 in c:\\users\\user\\anaconda3\\lib\\site-packages (from requests<3,>=2->langchain-community) (2024.6.2)\n",
      "Requirement already satisfied: greenlet!=0.4.17 in c:\\users\\user\\anaconda3\\lib\\site-packages (from SQLAlchemy<3,>=1.4->langchain-community) (3.0.1)\n",
      "Requirement already satisfied: jsonpointer>=1.9 in c:\\users\\user\\anaconda3\\lib\\site-packages (from jsonpatch<2.0,>=1.33->langchain-core<0.3.0,>=0.2.27->langchain-community) (2.1)\n",
      "Requirement already satisfied: mypy-extensions>=0.3.0 in c:\\users\\user\\anaconda3\\lib\\site-packages (from typing-inspect<1,>=0.4.0->dataclasses-json<0.7,>=0.5.7->langchain-community) (1.0.0)\n"
     ]
    }
   ],
   "source": [
    "!pip install -U langchain-community"
   ]
  },
  {
   "cell_type": "code",
   "execution_count": 7,
   "id": "27ab1003-6340-4b31-a8d9-a0ef6b4f40f1",
   "metadata": {},
   "outputs": [],
   "source": [
    "from langchain.document_loaders import TextLoader\n",
    "from langchain.embeddings import OpenAIEmbeddings\n",
    "from langchain_community.vectorstores import FAISS\n",
    "from langchain_community.chat_models import ChatOpenAI\n",
    "from langchain.memory import ConversationBufferMemory\n",
    "from langchain.chains import ConversationalRetrievalChain\n",
    "import os\n",
    "import openai\n",
    "import mysql.connector\n",
    "import datetime\n",
    "from pymongo import MongoClient\n",
    "import uuid\n",
    "from datetime import datetime, timedelta"
   ]
  },
  {
   "cell_type": "code",
   "execution_count": 1,
   "id": "ba6447ed-fa2d-4aa0-b3c2-fe1f4ac09dd8",
   "metadata": {},
   "outputs": [
    {
     "ename": "NameError",
     "evalue": "name 'openai' is not defined",
     "output_type": "error",
     "traceback": [
      "\u001b[1;31m---------------------------------------------------------------------------\u001b[0m",
      "\u001b[1;31mNameError\u001b[0m                                 Traceback (most recent call last)",
      "Cell \u001b[1;32mIn[1], line 2\u001b[0m\n\u001b[0;32m      1\u001b[0m \u001b[38;5;66;03m# Set OpenAI API key\u001b[39;00m\n\u001b[1;32m----> 2\u001b[0m openai\u001b[38;5;241m.\u001b[39mapi_key \u001b[38;5;241m=\u001b[39m \u001b[38;5;124m'\u001b[39m\u001b[38;5;124mYour openai key\u001b[39m\u001b[38;5;124m'\u001b[39m\n\u001b[0;32m      3\u001b[0m os\u001b[38;5;241m.\u001b[39menviron[\u001b[38;5;124m\"\u001b[39m\u001b[38;5;124mOPENAI_API_KEY\u001b[39m\u001b[38;5;124m\"\u001b[39m] \u001b[38;5;241m=\u001b[39m openai\u001b[38;5;241m.\u001b[39mapi_key\n\u001b[0;32m      5\u001b[0m \u001b[38;5;66;03m# Optionally, check that the environment variable was set correctly\u001b[39;00m\n",
      "\u001b[1;31mNameError\u001b[0m: name 'openai' is not defined"
     ]
    }
   ],
   "source": [
    "# Set OpenAI API key\n",
    "openai.api_key = 'Your openai key'\n",
    "os.environ[\"OPENAI_API_KEY\"] = openai.api_key\n",
    "\n",
    "# Optionally, check that the environment variable was set correctly\n",
    "print(\"OPENAI_API_KEY has been set!\")\n",
    "\n"
   ]
  },
  {
   "cell_type": "code",
   "execution_count": 9,
   "id": "8997de16-f755-4c2c-9afc-dc0d49e57db1",
   "metadata": {},
   "outputs": [
    {
     "name": "stderr",
     "output_type": "stream",
     "text": [
      "c:\\Users\\user\\anaconda3\\Lib\\site-packages\\langchain_core\\_api\\deprecation.py:139: LangChainDeprecationWarning: The class `OpenAIEmbeddings` was deprecated in LangChain 0.0.9 and will be removed in 0.3.0. An updated version of the class exists in the langchain-openai package and should be used instead. To use it run `pip install -U langchain-openai` and import as `from langchain_openai import OpenAIEmbeddings`.\n",
      "  warn_deprecated(\n",
      "c:\\Users\\user\\anaconda3\\Lib\\site-packages\\langchain_core\\_api\\deprecation.py:139: LangChainDeprecationWarning: The class `ChatOpenAI` was deprecated in LangChain 0.0.10 and will be removed in 0.3.0. An updated version of the class exists in the langchain-openai package and should be used instead. To use it run `pip install -U langchain-openai` and import as `from langchain_openai import ChatOpenAI`.\n",
      "  warn_deprecated(\n"
     ]
    }
   ],
   "source": [
    "# Load data\n",
    "txt_file_path = \"C:\\\\Users\\\\user\\\\Downloads\\\\Kenya Recipe Book 2018.txt\"\n",
    "loader = TextLoader(file_path=txt_file_path, encoding=\"utf-8\")\n",
    "data = loader.load()\n",
    "\n",
    "# Summarize data to avoid exceeding token limit\n",
    "def summarize_data(data, max_length=900000):\n",
    "    summarized_data = \"\"\n",
    "    current_length = 0\n",
    "    for doc in data:\n",
    "        if current_length + len(doc.page_content) > max_length:\n",
    "            break\n",
    "        summarized_data += doc.page_content + \"\\n\"\n",
    "        current_length += len(doc.page_content)\n",
    "    return summarized_data\n",
    "\n",
    "# Create embeddings and vectorstore\n",
    "embeddings = OpenAIEmbeddings()\n",
    "vectorstore = FAISS.from_documents(data, embedding=embeddings)\n",
    "\n",
    "# Initialize chat model and memory\n",
    "llm = ChatOpenAI(temperature=0, model_name=\"gpt-3.5-turbo\")\n",
    "memory = ConversationBufferMemory(memory_key='chat_history', return_messages=True)"
   ]
  },
  {
   "cell_type": "code",
   "execution_count": 10,
   "id": "270d763b-7d98-4b79-bff0-7884e0dce139",
   "metadata": {},
   "outputs": [],
   "source": [
    "# Create conversational retrieval chain\n",
    "conversation_chain = ConversationalRetrievalChain.from_llm(\n",
    "    llm=llm,\n",
    "    chain_type=\"stuff\",\n",
    "    retriever=vectorstore.as_retriever(),\n",
    "    memory=memory\n",
    ")\n",
    "\n"
   ]
  },
  {
   "cell_type": "code",
   "execution_count": 11,
   "id": "3c3c7d06-0dd4-444c-9130-18878f812a45",
   "metadata": {},
   "outputs": [],
   "source": [
    "# Function to calculate BMI\n",
    "def calculate_bmi(weight, height):\n",
    "    height_in_meters = height / 100  # Convert height to meters\n",
    "    bmi = weight / (height_in_meters ** 2)\n",
    "    return bmi\n",
    "\n",
    "# Function to get completion from OpenAI\n",
    "def get_completion(prompt, model=\"gpt-3.5-turbo\"):\n",
    "    messages = [{\"role\": \"user\", \"content\": prompt}]\n",
    "    response = openai.ChatCompletion.create(\n",
    "        model=model,\n",
    "        messages=messages,\n",
    "        temperature=0,  # this is the degree of randomness of the model's output\n",
    "    )\n",
    "    return response.choices[0].message[\"content\"]"
   ]
  },
  {
   "cell_type": "code",
   "execution_count": 12,
   "id": "8f83f75e-b6ea-421d-ae14-0303d6bb9df2",
   "metadata": {},
   "outputs": [],
   "source": [
    "# Add user function\n",
    "def add_user(age, height, weight, gender, goal, duration, health_issues):\n",
    "    user_id = str(uuid.uuid4())\n",
    "    user_data = {\n",
    "        'user_id': user_id,\n",
    "        'age': age,\n",
    "        'height': height,\n",
    "        'weight': weight,\n",
    "        'gender': gender,\n",
    "        'goal': goal,\n",
    "        'duration': duration,\n",
    "        'health_issues': health_issues\n",
    "    }\n",
    "    users_collection.insert_one(user_data)\n",
    "    return user_id\n",
    "\n",
    "# Get past meals function\n",
    "def get_past_meals(user_id):\n",
    "    thirty_days_ago = datetime.now() - timedelta(days=30)\n",
    "    past_meals = recommendations_collection.find({\n",
    "        'user_id': user_id,\n",
    "        'date': {'$gte': thirty_days_ago}\n",
    "    }, {'meal': 1, '_id': 0})\n",
    "    return [meal['meal'] for meal in past_meals]"
   ]
  },
  {
   "cell_type": "code",
   "execution_count": 13,
   "id": "d0ab762a-8ddc-44dc-b7d1-56cce6561bdc",
   "metadata": {},
   "outputs": [],
   "source": [
    "from datetime import datetime\n",
    "\n",
    "# Function for daily recommendation\n",
    "def daily_recommendation(user_id, data_text):\n",
    "    today = datetime.now().date()\n",
    "    today_str = today.strftime('%Y-%m-%d')\n",
    "\n",
    "    existing_meal = recommendations_collection.find_one({\n",
    "        'user_id': user_id,\n",
    "        'date': today_str\n",
    "    }, {'meal': 1, '_id': 0})\n",
    "\n",
    "    if existing_meal:\n",
    "        meal = existing_meal['meal']\n",
    "    else:\n",
    "        meal = generate_personalized_diet(user_id, today_str, data_text)\n",
    "    \n",
    "    return meal\n",
    "\n"
   ]
  },
  {
   "cell_type": "code",
   "execution_count": 14,
   "id": "c00b00d4-e2a6-45f8-ad57-2ed2b7261c18",
   "metadata": {},
   "outputs": [],
   "source": [
    "def calculate_kilojoules_intake(age, height, weight, gender, goal, activity_level='sedentary'):\n",
    "    # Calculate BMR\n",
    "    if gender == 'male':\n",
    "        bmr = 88.362 + (13.397 * weight) + (4.799 * height) - (5.677 * age)\n",
    "    elif gender == 'female':\n",
    "        bmr = 447.593 + (9.247 * weight) + (3.098 * height) - (4.330 * age)\n",
    "    else:\n",
    "        raise ValueError(\"Gender must be 'male' or 'female'\")\n",
    "\n",
    "    # Adjust BMR for activity level\n",
    "    activity_multipliers = {\n",
    "        'sedentary': 1.2,\n",
    "        'lightly_active': 1.375,\n",
    "        'moderately_active': 1.55,\n",
    "        'very_active': 1.725,\n",
    "        'super_active': 1.9\n",
    "    }\n",
    "\n",
    "    if activity_level not in activity_multipliers:\n",
    "        raise ValueError(\"Invalid activity level. Choose from: sedentary, lightly_active, moderately_active, very_active, super_active\")\n",
    "\n",
    "    total_kilojoules = bmr * activity_multipliers[activity_level]\n",
    "\n",
    "    \n",
    "    if goal > weight:  # Weight gain goal\n",
    "        total_kilojoules += 500  # Add extra kilojoules for weight gain\n",
    "    elif goal < weight:  # Weight loss goal\n",
    "        total_kilojoules -= 500  # Subtract kilojoules for weight loss\n",
    "\n",
    "    return total_kilojoules\n"
   ]
  },
  {
   "cell_type": "code",
   "execution_count": 15,
   "id": "81761d01-8ac2-4135-8372-46624055bf7b",
   "metadata": {},
   "outputs": [],
   "source": [
    "def generate_personalized_diet(user_id, date, data_text):\n",
    "    user_data = users_collection.find_one({'user_id': user_id})\n",
    "\n",
    "    if not user_data:\n",
    "        raise ValueError(f\"User with ID {user_id} does not exist.\")\n",
    "    \n",
    "    age, height, weight, gender, goal, health_issues = user_data['age'], user_data['height'], user_data['weight'], user_data['gender'], user_data['goal'], user_data['health_issues']\n",
    "    bmi = calculate_bmi(weight, height)\n",
    "    \n",
    "    # Calculate daily kilojoules intake\n",
    "    kilojoules_needed = calculate_kilojoules_intake(age, height, weight, gender, goal)\n",
    "\n",
    "    # Get past meals\n",
    "    past_meals = get_past_meals(user_id)\n",
    "    \n",
    "    prompt =f\"\"\"\n",
    "     User Profile:\n",
    "     - Age: {age}\n",
    "     - Height: {height} cm\n",
    "     - Weight: {weight} kg\n",
    "     - Gender: {gender}\n",
    "     - Weight Goal: {goal} kg\n",
    "     - Health Issues: {health_issues}\n",
    "     - BMI: {bmi}\n",
    "     - Daily Kilojoules Intake: {kilojoules_needed} kJ\n",
    "\n",
    "     Recent Meal History:\n",
    "    {', '.join(past_meals)}\n",
    "\n",
    "     Dietary Requirements:\n",
    "     1. Use only recipes from the Kenya Recipe Book 2018\n",
    "     2. Align with weight {goal} objective\n",
    "     3. Avoid allergens and foods related to {health_issues}\n",
    "     4. Match daily kilojoule intake to {kilojoules_needed} kJ\n",
    "     5. Ensure variety and avoid repeating meals from the past month\n",
    "\n",
    "Meal Plan Guidelines:\n",
    "1. Create a detailed 1-day schedule including:\n",
    "   - Breakfast\n",
    "   - Lunch\n",
    "   - Dinner\n",
    "   - Snacks\n",
    "2. Provide portion sizes and timings for each meal\n",
    "3. Compare nutritional data per 100g of recipe\n",
    "4. Ensure no consecutive meal repetitions\n",
    "\n",
    "Formatting:\n",
    "[Meal Type]: [Meal Name] - [Portion Size] at [Time]\n",
    "\n",
    "Additional Notes:\n",
    "- Do not mention the Kenya Recipe Book 2018 explicitly\n",
    "- Prioritize variety in meal selections\n",
    "\n",
    "Data Summary:\n",
    "{data_text[:80000]}\n",
    "\n",
    "Please generate a 1-day meal plan based on the above information and guidelines.\n",
    "\"\"\"\n",
    "    \n",
    "    response = get_completion(prompt)\n",
    "    \n",
    "    recommendations_collection.insert_one({\n",
    "        'user_id': user_id,\n",
    "        'date': date,\n",
    "        'meal': response\n",
    "    })\n",
    "    \n",
    "    return response\n",
    "\n",
    "\n",
    "\n",
    "def calculate_bmi(weight, height):\n",
    "    return weight / (height / 100) ** 2\n",
    "\n"
   ]
  },
  {
   "cell_type": "code",
   "execution_count": 16,
   "id": "a72b792d-f073-4bb5-9071-d48cbdd2197d",
   "metadata": {},
   "outputs": [],
   "source": [
    "# Summarize and prepare the data text\n",
    "data_text = summarize_data(data)"
   ]
  },
  {
   "cell_type": "code",
   "execution_count": 17,
   "id": "97123321-5308-4c90-976b-0a0fbb8549e8",
   "metadata": {},
   "outputs": [],
   "source": [
    "# Save the model data to a pickle file\n",
    "model_data = {\n",
    "    'data_text': data_text,\n",
    "    # Exclude functions from pickle file\n",
    "}\n",
    "\n",
    "with open('updated_diet_model.pkl', 'wb') as f:\n",
    "    pickle.dump(model_data, f)"
   ]
  },
  {
   "cell_type": "code",
   "execution_count": 18,
   "id": "905a4152-d32d-4ec9-ab18-65ca1fc46fc1",
   "metadata": {},
   "outputs": [
    {
     "name": "stdout",
     "output_type": "stream",
     "text": [
      "User with ID 18579a59-fce2-4615-b302-0b63a94cf76e successfully added.\n",
      "Breakfast: Tosti Mayai (Egg Toast) - 2 slices\n",
      "Time: 7:00 AM\n",
      "\n",
      "Lunch: Vegetable Samosa - 2 pieces\n",
      "Time: 12:30 PM\n",
      "\n",
      "Dinner: Mkate Kuta - 2 pieces\n",
      "Time: 6:30 PM\n",
      "\n",
      "Snack: Vimumunya vya Chumvi (Pumpkin & Coconut Milk) - 1 cup\n",
      "Time: 3:00 PM\n",
      "\n",
      "Portion sizes and timings have been provided for each meal to align with the user's weight goal and daily kilojoule intake. The meal plan ensures variety and avoids repeating meals from the past month.\n"
     ]
    }
   ],
   "source": [
    "# Example usage\n",
    "\n",
    "# Add a new user \n",
    "new_user_id = add_user(25, 175, 70, 'male', 50, 12, 'does not eat oatmeal')\n",
    "\n",
    "# Verify that the user was added\n",
    "user_data = users_collection.find_one({'user_id': new_user_id})\n",
    "if not user_data:\n",
    "    print(f\"User with ID {new_user_id} does not exist after insertion.\")\n",
    "else:\n",
    "    print(f\"User with ID {new_user_id} successfully added.\")\n",
    "\n",
    "# Summarize and prepare the data text\n",
    "data_text = summarize_data(data)\n",
    "\n",
    "# Get the daily meal plan for the new user\n",
    "try:\n",
    "    daily_meal_plan = daily_recommendation(new_user_id, data_text)\n",
    "    print(daily_meal_plan)\n",
    "except ValueError as e:\n",
    "    print(e)\n"
   ]
  },
  {
   "cell_type": "code",
   "execution_count": 19,
   "id": "b9f00387-412c-4e67-863d-8a231f6163b2",
   "metadata": {},
   "outputs": [
    {
     "name": "stdout",
     "output_type": "stream",
     "text": [
      "Breakfast: Oatmeal\n",
      "- Portion Size: 1 cup\n",
      "- Time: Morning\n",
      "\n",
      "Lunch: Vegetable Samosa\n",
      "- Portion Size: 2 samosas\n",
      "- Time: Midday\n",
      "\n",
      "Dinner: Meat Samosa\n",
      "- Portion Size: 2 samosas\n",
      "- Time: Evening\n",
      "\n",
      "Snack: Drop Scones\n",
      "- Portion Size: 2 scones\n",
      "- Time: Afternoon\n",
      "\n",
      "Nutritional Data Comparison per 100g of Recipe:\n",
      "- Oatmeal: Energy 351 kJ/ 83 kcal, Fat 1.7g, Carbohydrates 12.9 g, Protein 2.4 g, Fibre 3.5 g\n",
      "- Vegetable Samosa: Energy 1,361 kJ/ 325 kcal, Fat 13.1 g, Carbohydrates 40.2 g, Protein 8.5 g, Fibre 6.2 g\n",
      "- Meat Samosa: Energy 1,854 kJ/ 443 kcal, Fat 22.2 g, Carbohydrates 40.5 g, Protein 18.8 g, Fibre 3.1 g\n",
      "- Drop Scones: Energy 1,869 kJ/ 449 kcal, Fat 29.8 g, Carbohydrates 37.4 g, Protein 7.1 g, Fibre 1.4 g\n",
      "\n",
      "Additional Notes:\n",
      "- Ensure to follow the portion sizes and timings for each meal\n",
      "- Adjust the meal plan according to personal preferences and dietary needs\n",
      "- Stay hydrated throughout the day by drinking water or herbal tea.\n"
     ]
    }
   ],
   "source": [
    "# Example usage\n",
    "\n",
    "# Add a new user \n",
    "new_user_id2 = add_user(25, 175, 70, 'male', 80, 12, 'lactose_intolerance')\n",
    "\n",
    "# Summarize and prepare the data text\n",
    "data_text = summarize_data(data)\n",
    "\n",
    "# Get the daily meal plan for the new user\n",
    "try:\n",
    "    daily_meal_plan = daily_recommendation(new_user_id2, data_text)\n",
    "    print(daily_meal_plan)\n",
    "except ValueError as e:\n",
    "    print(e)"
   ]
  },
  {
   "cell_type": "code",
   "execution_count": 20,
   "id": "b985e637-1a32-4360-bba6-690c860b51b9",
   "metadata": {},
   "outputs": [
    {
     "name": "stdout",
     "output_type": "stream",
     "text": [
      "[Breakfast]: Oatmeal - 1 cup at 8:00 AM\n",
      "[Lunch]: Vegetable Samosa - 2 pieces at 12:00 PM\n",
      "[Dinner]: Enriched Mandazi - 1 piece at 6:00 PM\n",
      "[Snack]: Tosti Mayai - 1 slice at 3:00 PM\n",
      "\n",
      "Note: Ensure to follow the recipe guidelines and adjust portion sizes to meet the daily kilojoule intake of 2144.8995999999993 kJ. Remember to avoid allergens and peanuts due to the user's allergy.\n"
     ]
    }
   ],
   "source": [
    "# Example usage\n",
    "\n",
    "# Add a new user \n",
    "new_user_id3 = add_user(22, 150, 150, 'female', 80, 30, 'peanuts allergy')\n",
    "\n",
    "# Summarize and prepare the data text\n",
    "data_text = summarize_data(data)\n",
    "\n",
    "# Get the daily meal plan for the new user\n",
    "try:\n",
    "    daily_meal_plan = daily_recommendation(new_user_id3, data_text)\n",
    "    print(daily_meal_plan)\n",
    "except ValueError as e:\n",
    "    print(e)"
   ]
  },
  {
   "cell_type": "code",
   "execution_count": null,
   "id": "c3474c15-5847-4655-9c22-4b2367859be0",
   "metadata": {},
   "outputs": [],
   "source": []
  }
 ],
 "metadata": {
  "kernelspec": {
   "display_name": "Python 3 (ipykernel)",
   "language": "python",
   "name": "python3"
  },
  "language_info": {
   "codemirror_mode": {
    "name": "ipython",
    "version": 3
   },
   "file_extension": ".py",
   "mimetype": "text/x-python",
   "name": "python",
   "nbconvert_exporter": "python",
   "pygments_lexer": "ipython3",
   "version": "3.11.9"
  }
 },
 "nbformat": 4,
 "nbformat_minor": 5
}
